{
 "cells": [
  {
   "cell_type": "markdown",
   "id": "c42bbeb0",
   "metadata": {},
   "source": [
    "<a href=\"https://www.viharatech.com\"><img src=\"https://miro.medium.com/v2/resize:fit:828/format:webp/1*on2Bpj6A5gfd-CzaFOAZRA.jpeg\"></a>"
   ]
  },
  {
   "cell_type": "code",
   "execution_count": 1,
   "id": "21417fd3",
   "metadata": {},
   "outputs": [],
   "source": [
    "import multiprocessing\n",
    "import os "
   ]
  },
  {
   "cell_type": "code",
   "execution_count": 3,
   "id": "fa181d24",
   "metadata": {},
   "outputs": [
    {
     "name": "stdout",
     "output_type": "stream",
     "text": [
      "I am Main Processor 16252\n",
      "I am Running under main Processor  16252\n"
     ]
    }
   ],
   "source": [
    "# Running a function using main processor:\n",
    "\n",
    "def fun():\n",
    "    print(\"I am Running under main Processor \" , os.getpid())\n",
    "    \n",
    "if __name__ == '__main__':\n",
    "    print('I am Main Processor',os.getpid())\n",
    "    fun()"
   ]
  },
  {
   "cell_type": "code",
   "execution_count": 12,
   "id": "15c2d108",
   "metadata": {},
   "outputs": [
    {
     "name": "stdout",
     "output_type": "stream",
     "text": [
      "I am Main Processor 16252\n",
      "I am Main Processor 16252\n"
     ]
    }
   ],
   "source": [
    "# Now create a child processor from mail processor and call the function using child processor:\n",
    "\n",
    "def fun():\n",
    "    print(\"I am Running under child Processor \" , os.getpid())\n",
    "    \n",
    "if __name__ == '__main__':\n",
    "    print('I am Main Processor',os.getpid())\n",
    "    p1 = multiprocessing.Process(target=fun)\n",
    "    p1.start()\n",
    "    p1.join()\n",
    "    \n",
    "    \n",
    "    print('I am Main Processor',os.getpid())\n",
    "   # fun()"
   ]
  },
  {
   "cell_type": "code",
   "execution_count": 14,
   "id": "644de5f7",
   "metadata": {},
   "outputs": [
    {
     "name": "stdout",
     "output_type": "stream",
     "text": [
      "2\n",
      "4\n"
     ]
    }
   ],
   "source": [
    "a = [1,2,3,4]\n",
    "def fun():\n",
    "    for i in a:\n",
    "        if i % 2 == 0:\n",
    "            print(i)\n",
    "if __name__ == '__main__':\n",
    "    fun()"
   ]
  },
  {
   "cell_type": "code",
   "execution_count": 15,
   "id": "b4c32927",
   "metadata": {},
   "outputs": [],
   "source": [
    "a = []"
   ]
  },
  {
   "cell_type": "code",
   "execution_count": null,
   "id": "aac2a7da",
   "metadata": {},
   "outputs": [],
   "source": [
    "a.insert"
   ]
  }
 ],
 "metadata": {
  "kernelspec": {
   "display_name": "Python 3 (ipykernel)",
   "language": "python",
   "name": "python3"
  },
  "language_info": {
   "codemirror_mode": {
    "name": "ipython",
    "version": 3
   },
   "file_extension": ".py",
   "mimetype": "text/x-python",
   "name": "python",
   "nbconvert_exporter": "python",
   "pygments_lexer": "ipython3",
   "version": "3.9.13"
  }
 },
 "nbformat": 4,
 "nbformat_minor": 5
}
