{
 "cells": [
  {
   "cell_type": "markdown",
   "metadata": {},
   "source": [
    "<a href=\"https://www.viharatech.com\"><img src=\"https://miro.medium.com/v2/resize:fit:828/format:webp/1*on2Bpj6A5gfd-CzaFOAZRA.jpeg\"></a>"
   ]
  },
  {
   "cell_type": "markdown",
   "metadata": {},
   "source": [
    "## Polymorphism"
   ]
  },
  {
   "cell_type": "raw",
   "metadata": {},
   "source": [
    "What is Polymorphism : The word polymorphism means having many forms. In programming, polymorphism means same function name (but different signatures) being uses for different types.\n",
    "\n",
    "Example of inbuilt polymorphic functions :\n",
    "\n",
    "\n",
    "# Python program to demonstrate in-built poly-\n",
    "# morphic functions\n",
    "  "
   ]
  },
  {
   "cell_type": "raw",
   "metadata": {},
   "source": [
    "def fun():\n",
    "    print(\"kamal\")\n",
    "def fun():\n",
    "    a = 1\n",
    "def fun():\n",
    "    a = 12.2\n"
   ]
  },
  {
   "cell_type": "raw",
   "metadata": {},
   "source": [
    "two techniques in polimorphism \n",
    "\n",
    "1 . method overriding -> same fun but changing the logic\n",
    "2 . method overloading -> same fun writhing many times "
   ]
  },
  {
   "cell_type": "markdown",
   "metadata": {},
   "source": [
    "# Method overriding "
   ]
  },
  {
   "cell_type": "code",
   "execution_count": 2,
   "metadata": {},
   "outputs": [
    {
     "name": "stdout",
     "output_type": "stream",
     "text": [
      " Second Function\n"
     ]
    }
   ],
   "source": [
    "def fun():   # 1st method \n",
    "    print(\" first method \")\n",
    "def fun():  # 2nd method \n",
    "    print(\" Second Function\")\n",
    "    \n",
    "fun()"
   ]
  },
  {
   "cell_type": "code",
   "execution_count": 5,
   "metadata": {},
   "outputs": [
    {
     "name": "stdout",
     "output_type": "stream",
     "text": [
      " this is a child class \n",
      " Again writing in child class \n"
     ]
    }
   ],
   "source": [
    "class kamal():\n",
    "    def fun(self):\n",
    "        print(\" First function in base class \")\n",
    "class child(kamal):\n",
    "    def var(self):\n",
    "        print(\" this is a child class \")\n",
    "    def fun(self):\n",
    "        print(\" Again writing in child class \")\n",
    "\n",
    "obj = child()\n",
    "obj.var()\n",
    "obj.fun()"
   ]
  },
  {
   "cell_type": "code",
   "execution_count": 7,
   "metadata": {},
   "outputs": [
    {
     "name": "stdout",
     "output_type": "stream",
     "text": [
      " checking the funcalling\n"
     ]
    }
   ],
   "source": [
    "class kamal():\n",
    "    def fun(self):\n",
    "        print(\" First function in base class \")\n",
    "    def fun(self):\n",
    "        print(\" checking the funcalling\")\n",
    "obj = kamal()\n",
    "obj.fun()"
   ]
  },
  {
   "cell_type": "code",
   "execution_count": null,
   "metadata": {},
   "outputs": [],
   "source": []
  },
  {
   "cell_type": "code",
   "execution_count": 2,
   "metadata": {},
   "outputs": [
    {
     "name": "stdout",
     "output_type": "stream",
     "text": [
      "10\n",
      "3\n"
     ]
    }
   ],
   "source": [
    "\n",
    "  \n",
    "# len() being used for a string\n",
    "print(len(\"kamalkumar\"))\n",
    "  \n",
    "# len() being used for a list\n",
    "print(len([10, 20, 30]))\n"
   ]
  },
  {
   "cell_type": "code",
   "execution_count": 3,
   "metadata": {},
   "outputs": [
    {
     "name": "stdout",
     "output_type": "stream",
     "text": [
      "5\n",
      "9\n"
     ]
    }
   ],
   "source": [
    "# A simple Python function to demonstrate\n",
    "# Polymorphism\n",
    "\n",
    "def add(x, y, z = 0):\n",
    "\treturn x + y+z\n",
    "\n",
    "# Driver code\n",
    "print(add(2, 3))\n",
    "print(add(2, 3, 4))\n"
   ]
  },
  {
   "cell_type": "raw",
   "metadata": {},
   "source": [
    "Polymorphism with class methods:\n",
    "Below code shows how python can use two different class types, in the same way. We create a for loop that iterates through a tuple of objects. Then call the methods without being concerned about which class type each object is. We assume that these methods actually exist in each class."
   ]
  },
  {
   "cell_type": "code",
   "execution_count": 6,
   "metadata": {},
   "outputs": [
    {
     "name": "stdout",
     "output_type": "stream",
     "text": [
      "New Delhi is the capital of India.\n",
      "Hindi is the most widely spoken language of India.\n",
      "India is a developing country.\n",
      "Washington, D.C. is the capital of USA.\n",
      "English is the primary language of USA.\n",
      "USA is a developed country.\n"
     ]
    }
   ],
   "source": [
    "class India():\n",
    "\tdef capital(self):\n",
    "\t\tprint(\"New Delhi is the capital of India.\")\n",
    "\n",
    "\tdef language(self):\n",
    "\t\tprint(\"Hindi is the most widely spoken language of India.\")\n",
    "\n",
    "\tdef type(self):\n",
    "\t\tprint(\"India is a developing country.\")\n",
    "\n",
    "class USA():\n",
    "\tdef capital(self):\n",
    "\t\tprint(\"Washington, D.C. is the capital of USA.\")\n",
    "\n",
    "\tdef language(self):\n",
    "\t\tprint(\"English is the primary language of USA.\")\n",
    "\n",
    "\tdef type(self):\n",
    "\t\tprint(\"USA is a developed country.\")\n",
    "\n",
    "obj_ind = India()\n",
    "obj_usa = USA()\n",
    "for country in (obj_ind, obj_usa):\n",
    "\tcountry.capital()\n",
    "\tcountry.language()\n",
    "\tcountry.type()\n"
   ]
  },
  {
   "cell_type": "raw",
   "metadata": {},
   "source": [
    "Polymorphism with Inheritance:\n",
    "\n",
    "In Python, Polymorphism lets us define methods in the child class that have the same name as the methods in the parent class. In inheritance, the child class inherits the methods from the parent class. However, it is possible to modify a method in a child class that it has inherited from the parent class. This is particularly useful in cases where the method inherited from the parent class doesn’t quite fit the child class. In such cases, we re-implement the method in the child class. This process of re-implementing a method in the child class is known as Method Overriding."
   ]
  },
  {
   "cell_type": "markdown",
   "metadata": {},
   "source": [
    "## Method Overriding"
   ]
  },
  {
   "cell_type": "code",
   "execution_count": 8,
   "metadata": {},
   "outputs": [
    {
     "name": "stdout",
     "output_type": "stream",
     "text": [
      "There are many types of birds.\n",
      "Most of the birds can fly but some cannot.\n",
      "There are many types of birds.\n",
      "Sparrows can fly.\n",
      "There are many types of birds.\n",
      "Ostriches cannot fly.\n"
     ]
    }
   ],
   "source": [
    "class Bird:\n",
    "    def intro(self):\n",
    "        print(\"There are many types of birds.\")\n",
    "    def flight(self):\n",
    "\t    print(\"Most of the birds can fly but some cannot.\")\n",
    "\t\n",
    "class sparrow(Bird):\n",
    "    def flight(self):\n",
    "\t    print(\"Sparrows can fly.\")\n",
    "\t\n",
    "class ostrich(Bird):\n",
    "    def flight(self):\n",
    "\t    print(\"Ostriches cannot fly.\")\n",
    "\t\n",
    "obj_bird = Bird()\n",
    "obj_spr = sparrow()\n",
    "obj_ost = ostrich()\n",
    "\n",
    "obj_bird.intro()\n",
    "obj_bird.flight()\n",
    "\n",
    "obj_spr.intro()\n",
    "obj_spr.flight()\n",
    "\n",
    "obj_ost.intro()\n",
    "obj_ost.flight()\n"
   ]
  },
  {
   "cell_type": "code",
   "execution_count": 1,
   "metadata": {},
   "outputs": [
    {
     "name": "stdout",
     "output_type": "stream",
     "text": [
      "I eat only plants. I am vegetarian.\n",
      "I breathe oxygen.\n"
     ]
    }
   ],
   "source": [
    "class Animal:\n",
    "    # properties\n",
    "\tmulticellular = True\n",
    "\t# Eukaryotic means Cells with Nucleus\n",
    "\teukaryotic = True\n",
    "\t\n",
    "\t# function breathe\n",
    "\tdef breathe(self):\n",
    "\t    print(\"I breathe oxygen.\")\n",
    "    \n",
    "    # function feed\n",
    "\tdef feed(self):\n",
    "\t    print(\"I eat food.\")\n",
    "class Herbivorous(Animal):\n",
    "    \n",
    "    # function feed\n",
    "\tdef feed(self):\n",
    "\t    print(\"I eat only plants. I am vegetarian.\")\n",
    "        \n",
    "herbi = Herbivorous()\n",
    "herbi.feed()\n",
    "# calling some other function\n",
    "herbi.breathe()\n"
   ]
  },
  {
   "cell_type": "raw",
   "metadata": {},
   "source": [
    "Polymorphism with a Function and objects:\n",
    "\n",
    "It is also possible to create a function that can take any object, allowing for polymorphism. In this example, let’s create a function called “func()” which will take an object which we will name “obj”. Though we are using the name ‘obj’, any instantiated object will be able to be called into this function. Next, lets give the function something to do that uses the ‘obj’ object we passed to it. In this case lets call the three methods, viz., capital(), language() and type(), each of which is defined in the two classes ‘India’ and ‘USA’. Next, let’s create instantiations of both the ‘India’ and ‘USA’ classes if we don’t have them already. With those, we can call their action using the same func() function:\n",
    "\n"
   ]
  },
  {
   "cell_type": "code",
   "execution_count": 11,
   "metadata": {},
   "outputs": [
    {
     "name": "stdout",
     "output_type": "stream",
     "text": [
      "New Delhi is the capital of India.\n",
      "Hindi is the most widely spoken language of India.\n",
      "India is a developing country.\n",
      "Washington, D.C. is the capital of USA.\n",
      "English is the primary language of USA.\n",
      "USA is a developed country.\n"
     ]
    }
   ],
   "source": [
    "class India():\n",
    "\tdef capital(self):\n",
    "\t\tprint(\"New Delhi is the capital of India.\")\n",
    "\n",
    "\tdef language(self):\n",
    "\t\tprint(\"Hindi is the most widely spoken language of India.\")\n",
    "\n",
    "\tdef type(self):\n",
    "\t\tprint(\"India is a developing country.\")\n",
    "\n",
    "class USA():\n",
    "\tdef capital(self):\n",
    "\t\tprint(\"Washington, D.C. is the capital of USA.\")\n",
    "\n",
    "\tdef language(self):\n",
    "\t\tprint(\"English is the primary language of USA.\")\n",
    "\n",
    "\tdef type(self):\n",
    "\t\tprint(\"USA is a developed country.\")\n",
    "\n",
    "def func(obj):\n",
    "\tobj.capital()\n",
    "\tobj.language()\n",
    "\tobj.type()\n",
    "\n",
    "obj_ind = India()\n",
    "obj_usa = USA()\n",
    "\n",
    "func(obj_ind)\n",
    "func(obj_usa)\n"
   ]
  },
  {
   "cell_type": "markdown",
   "metadata": {},
   "source": [
    "## Method overloading "
   ]
  },
  {
   "cell_type": "raw",
   "metadata": {},
   "source": [
    "Like other languages (for example, method overloading in C++) do, python does not support method overloading by default. But there are different ways to achieve method overloading in Python. \n",
    "\n",
    "The problem with method overloading in Python is that we may overload the methods but can only use the latest defined method. "
   ]
  },
  {
   "cell_type": "raw",
   "metadata": {},
   "source": [
    "def fun(int a)\n",
    "\n",
    "def fun(float b)\n",
    "\n",
    "def fun(str c)"
   ]
  },
  {
   "cell_type": "code",
   "execution_count": 2,
   "metadata": {},
   "outputs": [
    {
     "name": "stdout",
     "output_type": "stream",
     "text": [
      "120\n"
     ]
    }
   ],
   "source": [
    "# First product method.\n",
    "# Takes two argument and print their\n",
    "# product\n",
    "def product(a, b):\n",
    "\tp = a * b\n",
    "\tprint(p)\n",
    "\t\n",
    "# Second product method\n",
    "# Takes three argument and print their\n",
    "# product\n",
    "def product(a, b, c):\n",
    "\tp = a * b*c\n",
    "\tprint(p)\n",
    "\n",
    "# Uncommenting the below line shows an error\t\n",
    "#product(4, 5)\n",
    "\n",
    "# This line will call the second product method\n",
    "product(4, 5, 6)\n"
   ]
  },
  {
   "cell_type": "raw",
   "metadata": {},
   "source": [
    "In the above code, we have defined two product method, but we can only use the second product method, as python does not support method overloading. We may define many methods of the same name and different arguments, but we can only use the latest defined method. Calling the other method will produce an error. Like here calling product(4, 5)    will produce an error as the latest defined product method takes three arguments.\n",
    "\n",
    "Thus, to overcome the above problem we can use different ways to achieve the method overloading."
   ]
  },
  {
   "cell_type": "raw",
   "metadata": {},
   "source": [
    "In python, we create a single method with different arguments to process the Method Overloading. Here we create a method with zero or more parameters and also define the methods based on the number of parameters."
   ]
  },
  {
   "cell_type": "code",
   "execution_count": 9,
   "metadata": {},
   "outputs": [
    {
     "name": "stdout",
     "output_type": "stream",
     "text": [
      "Hello Besant\n"
     ]
    }
   ],
   "source": [
    "class Employee:\n",
    "    def Hello_Emp(self,e_name=None):\n",
    "        if e_name is not None:\n",
    "            print(\"Hello \"+e_name)\n",
    "        else:\n",
    "            print(\"Hello \")\n",
    "emp1=Employee()\n",
    "#emp1.Hello_Emp()\n",
    "emp1.Hello_Emp(\"Besant\")"
   ]
  },
  {
   "cell_type": "code",
   "execution_count": 16,
   "metadata": {},
   "outputs": [
    {
     "name": "stdout",
     "output_type": "stream",
     "text": [
      "Nothing to find\n",
      "Area of square: 100\n",
      "Area of Rectangle: 200\n"
     ]
    }
   ],
   "source": [
    "class Area:\n",
    "    def find_area(self,a=None,b=None):\n",
    "        if a!=None and b!=None:\n",
    "            print(\"Area of Rectangle:\",(a*b))\n",
    "        elif a!=None:\n",
    "            print(\"Area of square:\",(a*a))\n",
    "        else:\n",
    "            print(\"Nothing to find\")\n",
    "obj1=Area()\n",
    "obj1.find_area()\n",
    "obj1.find_area(10)\n",
    "obj1.find_area(10,20)"
   ]
  },
  {
   "cell_type": "code",
   "execution_count": null,
   "metadata": {},
   "outputs": [],
   "source": []
  }
 ],
 "metadata": {
  "kernelspec": {
   "display_name": "Python 3 (ipykernel)",
   "language": "python",
   "name": "python3"
  },
  "language_info": {
   "codemirror_mode": {
    "name": "ipython",
    "version": 3
   },
   "file_extension": ".py",
   "mimetype": "text/x-python",
   "name": "python",
   "nbconvert_exporter": "python",
   "pygments_lexer": "ipython3",
   "version": "3.9.13"
  }
 },
 "nbformat": 4,
 "nbformat_minor": 2
}
