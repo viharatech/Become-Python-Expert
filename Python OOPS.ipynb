{
 "cells": [
  {
   "cell_type": "markdown",
   "metadata": {},
   "source": [
    "<a href=\"https://www.viharatech.com\"><img src=\"https://miro.medium.com/v2/resize:fit:828/format:webp/1*on2Bpj6A5gfd-CzaFOAZRA.jpeg\"></a>\n"
   ]
  },
  {
   "cell_type": "code",
   "execution_count": 1,
   "metadata": {},
   "outputs": [],
   "source": [
    "#Python Creating Classes and Objects\n",
    "class Square():\n",
    "    pass\n",
    "\n",
    "sq = Square()\n"
   ]
  },
  {
   "cell_type": "code",
   "execution_count": 3,
   "metadata": {},
   "outputs": [
    {
     "name": "stdout",
     "output_type": "stream",
     "text": [
      "14\n"
     ]
    }
   ],
   "source": [
    "# class definition\n",
    "class Square():\n",
    "    side = 14\n",
    "\n",
    "# creating object of class Square\n",
    "sq = Square()\n",
    "print(sq.side)"
   ]
  },
  {
   "cell_type": "code",
   "execution_count": 5,
   "metadata": {},
   "outputs": [
    {
     "name": "stdout",
     "output_type": "stream",
     "text": [
      "14\n",
      "14\n"
     ]
    }
   ],
   "source": [
    "# class definition\n",
    "class Square():\n",
    "    side = 14\n",
    "\n",
    "# creating objects of class Square\n",
    "sq1 = Square()\n",
    "sq2 = Square()\n",
    "print(sq1.side)\n",
    "print(sq2.side)"
   ]
  },
  {
   "cell_type": "code",
   "execution_count": 2,
   "metadata": {},
   "outputs": [
    {
     "name": "stdout",
     "output_type": "stream",
     "text": [
      "10\n",
      "20\n"
     ]
    }
   ],
   "source": [
    "# class definition\n",
    "class Square():\n",
    "    side = 14\n",
    "\n",
    "# creating objects of class Square\n",
    "sq1 = Square()\n",
    "sq2 = Square()\n",
    "\n",
    "# changing value of side attribute for each object\n",
    "sq1.side = 10\n",
    "sq2.side = 20\n",
    "\n",
    "print(sq1.side)\n",
    "print(sq2.side)"
   ]
  },
  {
   "cell_type": "code",
   "execution_count": 9,
   "metadata": {},
   "outputs": [
    {
     "name": "stdout",
     "output_type": "stream",
     "text": [
      "10\n",
      "30\n",
      "20\n"
     ]
    }
   ],
   "source": [
    "# class definition\n",
    "class Rectangle():\n",
    "    pass\n",
    "\n",
    "# creating objects of class Rectangle\n",
    "rc1 = Rectangle()\n",
    "rc2 = Rectangle()\n",
    "\n",
    "# defining attributes for rc1 object\n",
    "rc1.length = 10\n",
    "rc1.breadth = 30\n",
    "\n",
    "# defining attributes for rc2 object\n",
    "rc2.breadth = 20\n",
    "\n",
    "print(rc1.length)\n",
    "print(rc1.breadth)\n",
    "print(rc2.breadth)"
   ]
  },
  {
   "cell_type": "code",
   "execution_count": 11,
   "metadata": {},
   "outputs": [
    {
     "ename": "AttributeError",
     "evalue": "'Rectangle' object has no attribute 'length'",
     "output_type": "error",
     "traceback": [
      "\u001b[1;31m---------------------------------------------------------------------------\u001b[0m",
      "\u001b[1;31mAttributeError\u001b[0m                            Traceback (most recent call last)",
      "\u001b[1;32m<ipython-input-11-9854f5c277ea>\u001b[0m in \u001b[0;36m<module>\u001b[1;34m\u001b[0m\n\u001b[0;32m     14\u001b[0m \u001b[0mrc2\u001b[0m\u001b[1;33m.\u001b[0m\u001b[0mbreadth\u001b[0m \u001b[1;33m=\u001b[0m \u001b[1;36m20\u001b[0m\u001b[1;33m\u001b[0m\u001b[1;33m\u001b[0m\u001b[0m\n\u001b[0;32m     15\u001b[0m \u001b[1;33m\u001b[0m\u001b[0m\n\u001b[1;32m---> 16\u001b[1;33m \u001b[0mprint\u001b[0m\u001b[1;33m(\u001b[0m\u001b[0mrc2\u001b[0m\u001b[1;33m.\u001b[0m\u001b[0mlength\u001b[0m\u001b[1;33m)\u001b[0m\u001b[1;33m\u001b[0m\u001b[1;33m\u001b[0m\u001b[0m\n\u001b[0m",
      "\u001b[1;31mAttributeError\u001b[0m: 'Rectangle' object has no attribute 'length'"
     ]
    }
   ],
   "source": [
    "# class definition\n",
    "class Rectangle():\n",
    "    pass\n",
    "\n",
    "# creating objects of class Rectangle\n",
    "rc1 = Rectangle()\n",
    "rc2 = Rectangle()\n",
    "\n",
    "# defining attributes for rc1 object\n",
    "rc1.length = 10\n",
    "rc1.breadth = 30\n",
    "\n",
    "# defining attributes for rc2 object\n",
    "rc2.breadth = 20\n",
    "\n",
    "print(rc2.length)"
   ]
  },
  {
   "cell_type": "code",
   "execution_count": 13,
   "metadata": {},
   "outputs": [
    {
     "name": "stdout",
     "output_type": "stream",
     "text": [
      "Length: 10\n"
     ]
    }
   ],
   "source": [
    "#Python Accessing Class Attributes by Class\n",
    "# class definition\n",
    "class Rectangle():\n",
    "    length = 10\n",
    "\n",
    "# accessing class attribute length\n",
    "print(\"Length:\", Rectangle.length)"
   ]
  },
  {
   "cell_type": "code",
   "execution_count": 15,
   "metadata": {},
   "outputs": [
    {
     "name": "stdout",
     "output_type": "stream",
     "text": [
      "Length: 10\n",
      "Breadth: 20\n"
     ]
    }
   ],
   "source": [
    "# class definition\n",
    "class Rectangle():\n",
    "    length = 10\n",
    "\n",
    "# accessing class attribute length\n",
    "print(\"Length:\", Rectangle.length)\n",
    "\n",
    "# defining new class attribute breadth\n",
    "Rectangle.breadth = 20\n",
    "print(\"Breadth:\", Rectangle.breadth)"
   ]
  },
  {
   "cell_type": "code",
   "execution_count": 18,
   "metadata": {},
   "outputs": [
    {
     "name": "stdout",
     "output_type": "stream",
     "text": [
      "14\n",
      "This is a Square\n"
     ]
    }
   ],
   "source": [
    "#Python Methods Inside Class\n",
    "# class definition\n",
    "class Square():\n",
    "    side = 14\n",
    "\n",
    "    def description(self):\n",
    "        print(\"This is a Square\")\n",
    "\n",
    "# creating objects of class Square\n",
    "sq = Square()\n",
    "\n",
    "print(sq.side)  # accessing variable side of class\n",
    "sq.description()  # calling method description() of class"
   ]
  },
  {
   "cell_type": "code",
   "execution_count": 21,
   "metadata": {},
   "outputs": [
    {
     "name": "stdout",
     "output_type": "stream",
     "text": [
      "14\n"
     ]
    },
    {
     "ename": "TypeError",
     "evalue": "description() takes 0 positional arguments but 1 was given",
     "output_type": "error",
     "traceback": [
      "\u001b[1;31m---------------------------------------------------------------------------\u001b[0m",
      "\u001b[1;31mTypeError\u001b[0m                                 Traceback (most recent call last)",
      "\u001b[1;32m<ipython-input-21-08e2cd1572ce>\u001b[0m in \u001b[0;36m<module>\u001b[1;34m\u001b[0m\n\u001b[0;32m     11\u001b[0m \u001b[1;33m\u001b[0m\u001b[0m\n\u001b[0;32m     12\u001b[0m \u001b[0mprint\u001b[0m\u001b[1;33m(\u001b[0m\u001b[0msq\u001b[0m\u001b[1;33m.\u001b[0m\u001b[0mside\u001b[0m\u001b[1;33m)\u001b[0m  \u001b[1;31m# accessing variable side of class\u001b[0m\u001b[1;33m\u001b[0m\u001b[1;33m\u001b[0m\u001b[0m\n\u001b[1;32m---> 13\u001b[1;33m \u001b[0msq\u001b[0m\u001b[1;33m.\u001b[0m\u001b[0mdescription\u001b[0m\u001b[1;33m(\u001b[0m\u001b[1;33m)\u001b[0m  \u001b[1;31m# calling method description() of class\u001b[0m\u001b[1;33m\u001b[0m\u001b[1;33m\u001b[0m\u001b[0m\n\u001b[0m",
      "\u001b[1;31mTypeError\u001b[0m: description() takes 0 positional arguments but 1 was given"
     ]
    }
   ],
   "source": [
    "#Python Methods Inside Class\n",
    "# class definition\n",
    "class Square():\n",
    "    side = 14\n",
    "\n",
    "    def description():\n",
    "        print(\"This is a Square\")\n",
    "\n",
    "# creating objects of class Square\n",
    "sq = Square()\n",
    "\n",
    "print(sq.side)  # accessing variable side of class\n",
    "sq.description()  # calling method description() of class"
   ]
  },
  {
   "cell_type": "code",
   "execution_count": 23,
   "metadata": {},
   "outputs": [
    {
     "name": "stdout",
     "output_type": "stream",
     "text": [
      "Perimeter of Object 1: 40\n",
      "Perimeter of Object 2: 80\n"
     ]
    }
   ],
   "source": [
    "# class definition\n",
    "class Square():\n",
    "    def perimeter(self, side):\n",
    "        return side * 4\n",
    "\n",
    "# object1\n",
    "sq1 = Square()\n",
    "print(\"Perimeter of Object 1:\", sq1.perimeter(10))\n",
    "\n",
    "# object2\n",
    "sq2 = Square()\n",
    "print(\"Perimeter of Object 2:\", sq2.perimeter(20))"
   ]
  },
  {
   "cell_type": "code",
   "execution_count": 26,
   "metadata": {},
   "outputs": [
    {
     "ename": "NameError",
     "evalue": "name 'side' is not defined",
     "output_type": "error",
     "traceback": [
      "\u001b[1;31m---------------------------------------------------------------------------\u001b[0m",
      "\u001b[1;31mNameError\u001b[0m                                 Traceback (most recent call last)",
      "\u001b[1;32m<ipython-input-26-bd8a7a1bdf1a>\u001b[0m in \u001b[0;36m<module>\u001b[1;34m\u001b[0m\n\u001b[0;32m      8\u001b[0m \u001b[0msq1\u001b[0m \u001b[1;33m=\u001b[0m \u001b[0mSquare\u001b[0m\u001b[1;33m(\u001b[0m\u001b[1;33m)\u001b[0m\u001b[1;33m\u001b[0m\u001b[1;33m\u001b[0m\u001b[0m\n\u001b[0;32m      9\u001b[0m \u001b[0msq1\u001b[0m\u001b[1;33m.\u001b[0m\u001b[0mside\u001b[0m \u001b[1;33m=\u001b[0m \u001b[1;36m10\u001b[0m\u001b[1;33m\u001b[0m\u001b[1;33m\u001b[0m\u001b[0m\n\u001b[1;32m---> 10\u001b[1;33m \u001b[0mprint\u001b[0m\u001b[1;33m(\u001b[0m\u001b[1;34m\"Perimeter of Object 1:\"\u001b[0m\u001b[1;33m,\u001b[0m \u001b[0msq1\u001b[0m\u001b[1;33m.\u001b[0m\u001b[0mperimeter\u001b[0m\u001b[1;33m(\u001b[0m\u001b[1;33m)\u001b[0m\u001b[1;33m)\u001b[0m\u001b[1;33m\u001b[0m\u001b[1;33m\u001b[0m\u001b[0m\n\u001b[0m\u001b[0;32m     11\u001b[0m \u001b[1;33m\u001b[0m\u001b[0m\n\u001b[0;32m     12\u001b[0m \u001b[1;31m# object2\u001b[0m\u001b[1;33m\u001b[0m\u001b[1;33m\u001b[0m\u001b[1;33m\u001b[0m\u001b[0m\n",
      "\u001b[1;32m<ipython-input-26-bd8a7a1bdf1a>\u001b[0m in \u001b[0;36mperimeter\u001b[1;34m(self)\u001b[0m\n\u001b[0;32m      3\u001b[0m \u001b[1;32mclass\u001b[0m \u001b[0mSquare\u001b[0m\u001b[1;33m(\u001b[0m\u001b[1;33m)\u001b[0m\u001b[1;33m:\u001b[0m\u001b[1;33m\u001b[0m\u001b[1;33m\u001b[0m\u001b[0m\n\u001b[0;32m      4\u001b[0m     \u001b[1;32mdef\u001b[0m \u001b[0mperimeter\u001b[0m\u001b[1;33m(\u001b[0m\u001b[0mself\u001b[0m\u001b[1;33m)\u001b[0m\u001b[1;33m:\u001b[0m\u001b[1;33m\u001b[0m\u001b[1;33m\u001b[0m\u001b[0m\n\u001b[1;32m----> 5\u001b[1;33m         \u001b[1;32mreturn\u001b[0m \u001b[0mside\u001b[0m \u001b[1;33m*\u001b[0m \u001b[1;36m4\u001b[0m\u001b[1;33m\u001b[0m\u001b[1;33m\u001b[0m\u001b[0m\n\u001b[0m\u001b[0;32m      6\u001b[0m \u001b[1;33m\u001b[0m\u001b[0m\n\u001b[0;32m      7\u001b[0m \u001b[1;31m# object1\u001b[0m\u001b[1;33m\u001b[0m\u001b[1;33m\u001b[0m\u001b[1;33m\u001b[0m\u001b[0m\n",
      "\u001b[1;31mNameError\u001b[0m: name 'side' is not defined"
     ]
    }
   ],
   "source": [
    "#Python Using self to Access Attributes\n",
    "# class definition\n",
    "class Square():\n",
    "    def perimeter(self):\n",
    "        return side * 4\n",
    "\n",
    "# object1\n",
    "sq1 = Square()\n",
    "sq1.side = 10\n",
    "print(\"Perimeter of Object 1:\", sq1.perimeter())\n",
    "\n",
    "# object2\n",
    "sq2 = Square()\n",
    "sq2.side = 20\n",
    "print(\"Perimeter of Object 2:\", sq2.perimeter())"
   ]
  },
  {
   "cell_type": "code",
   "execution_count": 28,
   "metadata": {},
   "outputs": [
    {
     "name": "stdout",
     "output_type": "stream",
     "text": [
      "Perimeter of Object 1: 40\n",
      "Perimeter of Object 2: 80\n"
     ]
    }
   ],
   "source": [
    "# class definition\n",
    "class Square():\n",
    "    def perimeter(self):\n",
    "        return self.side * 4\n",
    "\n",
    "# object1\n",
    "sq1 = Square()\n",
    "sq1.side = 10\n",
    "print(\"Perimeter of Object 1:\", sq1.perimeter())\n",
    "\n",
    "# object2\n",
    "sq2 = Square()\n",
    "sq2.side = 20\n",
    "print(\"Perimeter of Object 2:\", sq2.perimeter())"
   ]
  },
  {
   "cell_type": "code",
   "execution_count": 30,
   "metadata": {},
   "outputs": [
    {
     "name": "stdout",
     "output_type": "stream",
     "text": [
      "1\n",
      "2\n"
     ]
    }
   ],
   "source": [
    "#Python Class Attributes and Instance Attributes\n",
    "# class definition\n",
    "class Counter():\n",
    "    count = 0  # count is class attribute\n",
    "\t\n",
    "    def increase(self):\n",
    "        Counter.count = Counter.count + 1\n",
    "\n",
    "# creating object of class Counter\n",
    "c1 = Counter()\n",
    "c1.increase()\n",
    "print(c1.count)\n",
    "\n",
    "# creating object of class Counter\n",
    "c2 = Counter()\n",
    "c2.increase()\n",
    "print(c2.count)\n"
   ]
  },
  {
   "cell_type": "code",
   "execution_count": 32,
   "metadata": {},
   "outputs": [
    {
     "name": "stdout",
     "output_type": "stream",
     "text": [
      "Perimeter of Object 1: 40\n",
      "Perimeter of Object 2: 80\n"
     ]
    }
   ],
   "source": [
    "#Instance variables are the variables which belong to a specific object.\n",
    "# class definition\n",
    "class Square():\n",
    "    def perimeter(self):\n",
    "        return self.side * 4\n",
    "\n",
    "# object1\n",
    "sq1 = Square()\n",
    "sq1.side = 10\n",
    "print(\"Perimeter of Object 1:\", sq1.perimeter())\n",
    "\n",
    "# object2\n",
    "sq2 = Square()\n",
    "sq2.side = 20\n",
    "print(\"Perimeter of Object 2:\", sq2.perimeter())"
   ]
  },
  {
   "cell_type": "code",
   "execution_count": 1,
   "metadata": {},
   "outputs": [
    {
     "name": "stdout",
     "output_type": "stream",
     "text": [
      "RAM\n"
     ]
    }
   ],
   "source": [
    "#Python Constructor\n",
    "class Student():\n",
    "    def __init__(self, name):\n",
    "        self.a = name\n",
    "\n",
    "s = Student(\"RAM\")\n",
    "print(s.a)"
   ]
  },
  {
   "cell_type": "code",
   "execution_count": 20,
   "metadata": {},
   "outputs": [
    {
     "ename": "TypeError",
     "evalue": "fun() missing 1 required positional argument: 'self'",
     "output_type": "error",
     "traceback": [
      "\u001b[1;31m---------------------------------------------------------------------------\u001b[0m",
      "\u001b[1;31mTypeError\u001b[0m                                 Traceback (most recent call last)",
      "\u001b[1;32m<ipython-input-20-f3eff3667d9d>\u001b[0m in \u001b[0;36m<module>\u001b[1;34m\u001b[0m\n\u001b[0;32m      4\u001b[0m         \u001b[0mprint\u001b[0m\u001b[1;33m(\u001b[0m\u001b[1;34m'k'\u001b[0m\u001b[1;33m)\u001b[0m\u001b[1;33m\u001b[0m\u001b[1;33m\u001b[0m\u001b[0m\n\u001b[0;32m      5\u001b[0m \u001b[0mk\u001b[0m \u001b[1;33m=\u001b[0m \u001b[0mkamal\u001b[0m\u001b[1;33m(\u001b[0m\u001b[1;33m)\u001b[0m\u001b[1;33m\u001b[0m\u001b[1;33m\u001b[0m\u001b[0m\n\u001b[1;32m----> 6\u001b[1;33m \u001b[0mk\u001b[0m\u001b[1;33m.\u001b[0m\u001b[0mfun\u001b[0m\u001b[1;33m(\u001b[0m\u001b[1;33m)\u001b[0m\u001b[1;33m\u001b[0m\u001b[1;33m\u001b[0m\u001b[0m\n\u001b[0m",
      "\u001b[1;31mTypeError\u001b[0m: fun() missing 1 required positional argument: 'self'"
     ]
    }
   ],
   "source": [
    "class kamal():\n",
    "    @staticmethod\n",
    "    def fun(self):\n",
    "        print('k')\n",
    "k = kamal()\n",
    "k.fun()"
   ]
  },
  {
   "cell_type": "code",
   "execution_count": 13,
   "metadata": {},
   "outputs": [
    {
     "ename": "TypeError",
     "evalue": "getArea() missing 1 required positional argument: 'self'",
     "output_type": "error",
     "traceback": [
      "\u001b[1;31m---------------------------------------------------------------------------\u001b[0m",
      "\u001b[1;31mTypeError\u001b[0m                                 Traceback (most recent call last)",
      "\u001b[1;32m<ipython-input-13-7f36e58d33dd>\u001b[0m in \u001b[0;36m<module>\u001b[1;34m\u001b[0m\n\u001b[0;32m     11\u001b[0m \u001b[1;33m\u001b[0m\u001b[0m\n\u001b[0;32m     12\u001b[0m \u001b[0mrect\u001b[0m \u001b[1;33m=\u001b[0m \u001b[0mRectangle\u001b[0m\u001b[1;33m(\u001b[0m\u001b[1;36m2\u001b[0m\u001b[1;33m,\u001b[0m\u001b[1;36m4\u001b[0m\u001b[1;33m)\u001b[0m\u001b[1;33m\u001b[0m\u001b[1;33m\u001b[0m\u001b[0m\n\u001b[1;32m---> 13\u001b[1;33m \u001b[0mRectangle\u001b[0m\u001b[1;33m.\u001b[0m\u001b[0mgetArea\u001b[0m\u001b[1;33m(\u001b[0m\u001b[1;33m)\u001b[0m\u001b[1;33m\u001b[0m\u001b[1;33m\u001b[0m\u001b[0m\n\u001b[0m\u001b[0;32m     14\u001b[0m \u001b[1;31m#print(rect.getArea())\u001b[0m\u001b[1;33m\u001b[0m\u001b[1;33m\u001b[0m\u001b[1;33m\u001b[0m\u001b[0m\n\u001b[0;32m     15\u001b[0m \u001b[1;31m#print(rect.getPerimeter())\u001b[0m\u001b[1;33m\u001b[0m\u001b[1;33m\u001b[0m\u001b[1;33m\u001b[0m\u001b[0m\n",
      "\u001b[1;31mTypeError\u001b[0m: getArea() missing 1 required positional argument: 'self'"
     ]
    }
   ],
   "source": [
    "class Rectangle():\n",
    "    def __init__(self, l, b):\n",
    "        self.length = l\n",
    "        self.breadth = b\n",
    "\n",
    "    def getArea(self):\n",
    "        return self.length * self.breadth\n",
    "\n",
    "    def getPerimeter(self):\n",
    "        return 2*(self.length + self.breadth)\n",
    "\n",
    "rect = Rectangle(2,4)\n",
    "Rectangle.getArea()\n",
    "#print(rect.getArea())\n",
    "#print(rect.getPerimeter())"
   ]
  },
  {
   "cell_type": "code",
   "execution_count": 3,
   "metadata": {},
   "outputs": [
    {
     "name": "stdout",
     "output_type": "stream",
     "text": [
      "ashu\n",
      "asha\n"
     ]
    }
   ],
   "source": [
    "#Python Instance Methods\n",
    "class Student():\n",
    "    def __init__(self, name):\n",
    "        self.a = name\n",
    "\n",
    "    def display(self):\n",
    "        return self.a\n",
    "\n",
    "st1 = Student(\"ashu\")\n",
    "st2 = Student(\"asha\")\n",
    "\n",
    "print(st1.display())\n",
    "print(st2.display())"
   ]
  },
  {
   "cell_type": "code",
   "execution_count": 43,
   "metadata": {},
   "outputs": [
    {
     "name": "stdout",
     "output_type": "stream",
     "text": [
      "asha\n"
     ]
    }
   ],
   "source": [
    "#Python Class Methods\n",
    "class Student():\n",
    "    name = \"asha\"\n",
    "\n",
    "    @classmethod\n",
    "    def create(cls):\n",
    "        return cls.name\n",
    "\n",
    "print(Student.create())"
   ]
  },
  {
   "cell_type": "code",
   "execution_count": 45,
   "metadata": {},
   "outputs": [
    {
     "name": "stdout",
     "output_type": "stream",
     "text": [
      "20\n",
      "31\n"
     ]
    }
   ],
   "source": [
    "class Student():\n",
    "    def __init__(self, name, age):\n",
    "        self.name = name\n",
    "        self.age = age\n",
    "\n",
    "    @classmethod\n",
    "    def create(cls, name, age):\n",
    "        return cls(name, age + 1)\n",
    "\n",
    "st1 = Student(\"John\", 20)\n",
    "st2 = Student.create(\"Johny\", 30)\n",
    "\n",
    "print(st1.age)\n",
    "print(st2.age)"
   ]
  },
  {
   "cell_type": "code",
   "execution_count": 7,
   "metadata": {},
   "outputs": [
    {
     "name": "stdout",
     "output_type": "stream",
     "text": [
      "21\n",
      "25\n",
      "True\n"
     ]
    }
   ],
   "source": [
    "# Python program to demonstrate\n",
    "# use of class method and static method.\n",
    "from datetime import date\n",
    "\n",
    "class Person:\n",
    "\tdef __init__(self, name, age):\n",
    "\t\tself.name = name\n",
    "\t\tself.age = age\n",
    "\t\n",
    "\t# a class method to create a Person object by birth year.\n",
    "\t@classmethod\n",
    "\tdef fromBirthYear(cls, name, year):\n",
    "\t\treturn cls(name, date.today().year - year)\n",
    "\t\n",
    "\t# a static method to check if a Person is adult or not.\n",
    "\t@staticmethod\n",
    "\tdef isAdult(age):\n",
    "\t\treturn age > 18\n",
    "\n",
    "person1 = Person('mayank', 21)\n",
    "person2 = Person.fromBirthYear('mayank', 1996)\n",
    "\n",
    "print (person1.age)\n",
    "print (person2.age)\n",
    "\n",
    "# print the result\n",
    "print (Person.isAdult(22))\n"
   ]
  }
 ],
 "metadata": {
  "kernelspec": {
   "display_name": "Python 3 (ipykernel)",
   "language": "python",
   "name": "python3"
  },
  "language_info": {
   "codemirror_mode": {
    "name": "ipython",
    "version": 3
   },
   "file_extension": ".py",
   "mimetype": "text/x-python",
   "name": "python",
   "nbconvert_exporter": "python",
   "pygments_lexer": "ipython3",
   "version": "3.9.13"
  }
 },
 "nbformat": 4,
 "nbformat_minor": 4
}
